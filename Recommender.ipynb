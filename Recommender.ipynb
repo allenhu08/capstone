{
  "nbformat": 4,
  "nbformat_minor": 0,
  "metadata": {
    "colab": {
      "name": "Copy of Copy of Common.ipynb",
      "provenance": [],
      "collapsed_sections": [],
      "include_colab_link": true
    },
    "kernelspec": {
      "name": "python3",
      "display_name": "Python 3"
    },
    "language_info": {
      "name": "python"
    }
  },
  "cells": [
    {
      "cell_type": "markdown",
      "metadata": {
        "id": "view-in-github",
        "colab_type": "text"
      },
      "source": [
        "<a href=\"https://colab.research.google.com/github/allenhu08/capstone/blob/main/Recommender.ipynb\" target=\"_parent\"><img src=\"https://colab.research.google.com/assets/colab-badge.svg\" alt=\"Open In Colab\"/></a>"
      ]
    },
    {
      "cell_type": "code",
      "execution_count": null,
      "metadata": {
        "id": "v68YSafV-nYs",
        "colab": {
          "base_uri": "https://localhost:8080/"
        },
        "outputId": "31dbadc1-7d1f-4c94-a24a-b435acf06a2c"
      },
      "outputs": [
        {
          "output_type": "stream",
          "name": "stdout",
          "text": [
            "Cloning into 'capstone'...\n",
            "remote: Enumerating objects: 51, done.\u001b[K\n",
            "remote: Counting objects: 100% (51/51), done.\u001b[K\n",
            "remote: Compressing objects: 100% (48/48), done.\u001b[K\n",
            "remote: Total 51 (delta 17), reused 20 (delta 3), pack-reused 0\u001b[K\n",
            "Unpacking objects: 100% (51/51), done.\n",
            "fatal: not a git repository (or any of the parent directories): .git\n"
          ]
        }
      ],
      "source": [
        "!git clone https://github.com/allenhu08/capstone.git || cd capstone && git pull"
      ]
    },
    {
      "cell_type": "code",
      "source": [
        "import pandas as pd\n",
        "import numpy as np"
      ],
      "metadata": {
        "id": "RjZ9i3MFp4yl"
      },
      "execution_count": null,
      "outputs": []
    },
    {
      "cell_type": "code",
      "source": [
        "df = pd.read_csv('./capstone/datasets/rawdata_new.csv')\n"
      ],
      "metadata": {
        "id": "kzIa6NxNfDzR"
      },
      "execution_count": null,
      "outputs": []
    },
    {
      "cell_type": "code",
      "source": [
        "print(df.columns.tolist())\n",
        "print(df.head())"
      ],
      "metadata": {
        "id": "dDMIcTTmmCrE",
        "outputId": "b4e407da-1c47-4dea-f806-b46668b33ab5",
        "colab": {
          "base_uri": "https://localhost:8080/"
        }
      },
      "execution_count": null,
      "outputs": [
        {
          "output_type": "stream",
          "name": "stdout",
          "text": [
            "['id', 'date', 'total_agr_land', 'workforce', 'trees', 'arable_land', 'ley', 'perm_grass', 'perm_crops', 'prot_cult', 'add_agr_land', 'oth_land', 'qual_landscape', 'spec_crops', 'grapes', 'vegetables', 'fruits', 'oth_spec_crops', 'animal_unit', 'cattle_animal_unit', 'dairy_cows', 'suckler_cows', 'hor_shee_goa', 'pigs_poultry', 'pigs', 'poultry', 'eco_proof', 'organic', 'farmtype', 'region', 'age', 'educ', 'cons_general', 'percep_hail', 'percep_drought', 'percep_frost', 'percep_heavyrain', 'percep_longrain', 'percep_heat', 'cons_farm', 'self_reduc', 'self_act', 'self_cap', 'self_conf', 'self_not', 'legum', 'legum_eff', 'conc', 'conc_eff', 'add', 'add_eff', 'lact', 'lact_eff', 'breed', 'breed_eff', 'covman', 'covman_eff', 'comp', 'comp_eff', 'drag', 'drag_eff', 'cov', 'cov_eff', 'plough', 'plough_eff', 'solar', 'solar_eff', 'biog', 'biog_eff', 'ecodr', 'ecodr_eff', 'legum_imag', 'conc_imag', 'add_imag', 'lact_imag', 'breed_imag', 'covman_imag', 'comp_imag', 'drag_imag', 'cov_imag', 'plough_imag', 'solar_imag', 'biog_imag', 'ecodr_imag', 'activ_dairy', 'activ_cattle', 'activ_pig', 'activ_poultry', 'activ_arab', 'activ_special', 'activ_nonag', 'attain_ghg', 'attain_yield', 'attain_biodiv', 'attain_soil', 'attain_incom', 'attain_acknow', 'innov_pion', 'innov_early', 'innov_thorou', 'innov_others', 'innov_trad', 'satisf_ldw', 'thresh_ldw', 'satisf_total', 'thresh_total', 'share', 'others_opinions', 'soc_impr', 'soc_inc', 'soc_env', 'soc_compinc', 'soc_compenv', 'net_name1_neigh', 'net_name1_work', 'net_name1_frien', 'net_name1_fam', 'net_name1_part', 'net_name1_club', 'net_name1_vet', 'net_name1_ext', 'net_name1_oth', 'net_name2_neigh', 'net_name2_work', 'net_name2_frien', 'net_name2_fam', 'net_name2_part', 'net_name2_club', 'net_name2_vet', 'net_name2_ext', 'net_name2_oth', 'net_name3_neigh', 'net_name3_work', 'net_name3_frien', 'net_name3_fam', 'net_name3_part', 'net_name3_club', 'net_name3_vet', 'net_name3_ext', 'net_name3_oth', 'net_name4_neigh', 'net_name4_work', 'net_name4_frien', 'net_name4_fam', 'net_name4_part', 'net_name4_club', 'net_name4_vet', 'net_name4_ext', 'net_name4_oth', 'net_name5_neigh', 'net_name5_work', 'net_name5_frien', 'net_name5_fam', 'net_name5_part', 'net_name5_club', 'net_name5_vet', 'net_name5_ext', 'net_name5_oth', 'net_name6_neigh', 'net_name6_work', 'net_name6_frien', 'net_name6_fam', 'net_name6_part', 'net_name6_club', 'net_name6_vet', 'net_name6_ext', 'net_name6_oth', 'net_name7_neigh', 'net_name7_work', 'net_name7_frien', 'net_name7_fam', 'net_name7_part', 'net_name7_club', 'net_name7_vet', 'net_name7_ext', 'net_name7_oth', 'net_name8_neigh', 'net_name8_work', 'net_name8_frien', 'net_name8_fam', 'net_name8_part', 'net_name8_club', 'net_name8_vet', 'net_name8_ext', 'net_name8_oth', 'net_name9_neigh', 'net_name9_work', 'net_name9_frien', 'net_name9_fam', 'net_name9_part', 'net_name9_club', 'net_name9_vet', 'net_name9_ext', 'net_name9_oth', 'net_name10_neigh', 'net_name10_work', 'net_name10_frien', 'net_name10_fam', 'net_name10_part', 'net_name10_club', 'net_name10_vet', 'net_name10_ext', 'net_name10_oth', 'net_name1_imp', 'net_name2_imp', 'net_name3_imp', 'net_name4_imp', 'net_name5_imp', 'net_name6_imp', 'net_name7_imp', 'net_name8_imp', 'net_name9_imp', 'net_name10_imp', 'lott_1', 'lott_2', 'lott_3', 'agroconcept', 'network', 'GHG_goal', 'env_goal', 'biodiv_goal', 'acknow_goal', 'yield_goal', 'income_goal', 'info_gew', 'info_resul', 'interviewtime']\n",
            "   id              date  total_agr_land  workforce  trees  arable_land  ley  \\\n",
            "0   1  13.03.2019 10:59          4925.0    1.95406     79         3871  107   \n",
            "1   2  13.03.2019 11:08          2176.0    6.61310     12         1671    0   \n",
            "2   3  13.03.2019 11:37          2251.0    1.39384     31         1507  279   \n",
            "3   4  13.03.2019 13:54          2389.0    1.99523      3         1969   71   \n",
            "4   5  13.03.2019 14:18          3205.0    3.09942     39         1911  675   \n",
            "\n",
            "   perm_grass  perm_crops  prot_cult  ...  network  GHG_goal  env_goal  \\\n",
            "0         793         140          0  ...        2         1         5   \n",
            "1          98         338        119  ...        1         3         4   \n",
            "2         380          81          0  ...        3         1         4   \n",
            "3         322           0          0  ...        1         2         5   \n",
            "4         461         117          0  ...        3         1         6   \n",
            "\n",
            "   biodiv_goal  acknow_goal  yield_goal  income_goal  info_gew  info_resul  \\\n",
            "0            6            4           3            2         2           2   \n",
            "1            2            1           6            5         2           2   \n",
            "2            2            3           6            5         1           1   \n",
            "3            4            1           3            6         2           1   \n",
            "4            3            2           5            4         2           2   \n",
            "\n",
            "   interviewtime  \n",
            "0         999.53  \n",
            "1         901.99  \n",
            "2        1832.99  \n",
            "3        2001.28  \n",
            "4        1809.30  \n",
            "\n",
            "[5 rows x 227 columns]\n"
          ]
        }
      ]
    },
    {
      "cell_type": "markdown",
      "source": [
        "After loading the data, we now group the columns based on their purpose.\n",
        "\n",
        "To begin with, we are only going to use the columns of measures' effectiveness."
      ],
      "metadata": {
        "id": "pfAl2yCS2Ngh"
      }
    },
    {
      "cell_type": "code",
      "source": [
        "farm_info_cols = ['total_agr_land', 'workforce', 'trees', 'arable_land', 'ley', 'perm_grass', 'perm_crops', 'prot_cult', 'add_agr_land', 'oth_land', 'qual_landscape', 'eco_proof', 'organic',  'age'] #'farmtype', 'region',\n",
        "crops_info_cols = ['spec_crops', 'grapes', 'vegetables', 'fruits', 'oth_spec_crops']\n",
        "animal_info_cols = ['animal_unit', 'cattle_animal_unit', 'dairy_cows', 'suckler_cows', 'hor_shee_goa', 'pigs_poultry', 'pigs', 'poultry']\n",
        "attitude_info_cols = ['educ', 'cons_general', 'percep_hail', 'percep_drought', 'percep_frost', 'percep_heavyrain', 'percep_longrain', 'percep_heat', 'cons_farm', 'self_reduc', 'self_act', 'self_cap', 'self_conf', 'self_not']\n",
        "meansures_info_cols = ['legum', 'legum_eff', 'conc', 'conc_eff', 'add', 'add_eff', 'lact', 'lact_eff', 'breed', 'breed_eff', 'covman', 'covman_eff', 'comp', 'comp_eff', 'drag', 'drag_eff', 'cov', 'cov_eff', 'plough', 'plough_eff', 'solar', 'solar_eff', 'biog', 'biog_eff', 'ecodr', 'ecodr_eff']\n",
        "measures_effect_info_cols = ['legum_eff', 'conc_eff', 'add_eff', 'lact_eff', 'breed_eff', 'covman_eff', 'comp_eff', 'drag_eff', 'cov_eff', 'plough_eff', 'solar_eff', 'biog_eff', 'ecodr_eff']\n",
        "\n",
        "# df = df[farm_info_cols + crops_info_cols + animal_info_cols + meansures_info_cols]\n",
        "effect_df = df[measures_effect_info_cols]\n",
        "effect_df = effect_df.fillna(0)\n",
        "effect_df.head()\n",
        "effect_vals = effect_df.values\n",
        "\n"
      ],
      "metadata": {
        "id": "w1mxYIOqqIWo"
      },
      "execution_count": 37,
      "outputs": []
    },
    {
      "cell_type": "markdown",
      "source": [
        "Next, we define our truncated SVD function. It takes a parameter `k` that represents the number of features in the latent space. We will need to learn the best `k` value, and it should be limited to 2 to (numberOfColumns - 1)."
      ],
      "metadata": {
        "id": "HwFieSHW2Y2s"
      }
    },
    {
      "cell_type": "code",
      "source": [
        "from scipy.linalg import sqrtm\n",
        "\n",
        "def compute_svd(vals, k):\n",
        "  # The magic happens here. U and V are user and item features\n",
        "  U, s, V=np.linalg.svd(vals, full_matrices=False)\n",
        "  s=np.diag(s)\n",
        "  # we take only the k most significant features\n",
        "  s=s[0:k,0:k]\n",
        "  U=U[:,0:k]\n",
        "  V=V[0:k,:]\n",
        "  s_root=sqrtm(s)\n",
        "  Usk = np.dot(U,s_root)\n",
        "  skV = np.dot(s_root,V)\n",
        "  UsV = np.dot(Usk, skV)\n",
        "\n",
        "  return UsV"
      ],
      "metadata": {
        "id": "12aKpy3PtEM8"
      },
      "execution_count": null,
      "outputs": []
    },
    {
      "cell_type": "markdown",
      "source": [
        "Now, we can run our SVD model with different `k`. As a start, we simply compare the predicted results against the original values, then calcuate the mean squared error. This will give us some ideas about overfitting and underfitting."
      ],
      "metadata": {
        "id": "TQYJbbbl3JZi"
      }
    },
    {
      "cell_type": "code",
      "source": [
        "\n",
        "from sklearn.metrics import mean_squared_error\n",
        "\n",
        "for k in range(2, len(effect_vals[0])):\n",
        "  pred = compute_svd(effect_vals, k)\n",
        "\n",
        "  print(\"k: \", k, \" RMSE: \", mean_squared_error(effect_df, pred))"
      ],
      "metadata": {
        "colab": {
          "base_uri": "https://localhost:8080/"
        },
        "id": "ioWKlVw60okT",
        "outputId": "6600e4e2-ae0e-421a-e47b-6851a1f05909"
      },
      "execution_count": 17,
      "outputs": [
        {
          "output_type": "stream",
          "name": "stdout",
          "text": [
            "k:  2  RMSE:  1.2411394057543548\n",
            "k:  3  RMSE:  1.0448868231714885\n",
            "k:  4  RMSE:  0.859584740839658\n",
            "k:  5  RMSE:  0.6913652961208363\n",
            "k:  6  RMSE:  0.5666829435784825\n",
            "k:  7  RMSE:  0.45479518487252946\n",
            "k:  8  RMSE:  0.3486809065245669\n",
            "k:  9  RMSE:  0.2618138692095433\n",
            "k:  10  RMSE:  0.1765491842243626\n",
            "k:  11  RMSE:  0.10162660795575242\n",
            "k:  12  RMSE:  0.04373837283886026\n"
          ]
        }
      ]
    },
    {
      "cell_type": "markdown",
      "source": [
        "Now we are going to use more finer grained training method. We are going to simulate that a farmer has not implemented any measure yet by setting their entire row to 0. Then, we run our SVD model and compare the prediction to the original values. The goal is still learning the best `k` that gives reasonable estimate."
      ],
      "metadata": {
        "id": "UUVndCfS4eXe"
      }
    },
    {
      "cell_type": "code",
      "source": [
        "def mask_v1(row, start=0, end=0):\n",
        "  if end == 0:\n",
        "    return 0\n",
        "  else:\n",
        "    row[start:end] = 0\n",
        "    return row\n",
        "\n",
        "def eval_v1(target, pred):\n",
        "  return mean_squared_error(target, pred)\n",
        "\n",
        "def learn_k(vals, mask_fn, eval_fn, mask_start=0, mask_end=0):\n",
        "  num_records = len(vals)\n",
        "  # print(\"num_records:\", num_records)\n",
        "  ks = []\n",
        "  errs = []\n",
        "  for i in range(num_records):\n",
        "    arr = np.copy(vals)\n",
        "    arr[i] = mask_fn(arr[i], mask_start, mask_end) #\n",
        "    best_k = 2\n",
        "    min_err = float('inf')\n",
        "    \n",
        "    for k in range(2, len(arr[0])):\n",
        "      pred = compute_svd(arr, k)\n",
        "      err = eval_fn(vals[i], pred[i])\n",
        "      # err = abs(sum(vals[i] - pred[i]))\n",
        "      # print(\"i: \", i, \" - k: \", k, \" - err \", err)\n",
        "      if (err < min_err):\n",
        "        min_err = err\n",
        "        best_k = k\n",
        "    \n",
        "    # print(\"i: \", i, \" - k: \", best_k, \" RMSE: \", err)\n",
        "    ks.append(best_k)\n",
        "    errs.append(min_err)\n",
        "\n",
        "  return ks, errs\n"
      ],
      "metadata": {
        "id": "Rd0MjKcrJqzk"
      },
      "execution_count": 46,
      "outputs": []
    },
    {
      "cell_type": "markdown",
      "source": [
        "Also, we are going to visualize the distribution of `k` and the error."
      ],
      "metadata": {
        "id": "kZpQYxW56z-9"
      }
    },
    {
      "cell_type": "code",
      "source": [
        "import matplotlib.pyplot as plt\n",
        "rng = np.random.RandomState(42)  # deterministic random data\n",
        "\n",
        "def plot_learning_results(vals, mask_fn, eval_fn=eval_v1, plot_err=True, mask_start=0, mask_end=0):\n",
        "  ks, errs = learn_k(vals, mask_fn, eval_fn, mask_start, mask_end)\n",
        "\n",
        "  np.histogram(ks)\n",
        "  _ = plt.hist(ks, bins='auto')  # arguments are passed to np.histogram\n",
        "  mode = max(set(ks), key=ks.count)\n",
        "  leg = 'mode: {}'.format(mode)\n",
        "  plt.title(\"Distribution of Best Ks ({})\".format(leg))\n",
        "  plt.show()\n",
        "\n",
        "\n",
        "  if plot_err:\n",
        "    np.histogram(errs)\n",
        "    _ = plt.hist(errs, bins='auto')  # arguments are passed to np.histogram\n",
        "    mean = np.mean(errs)\n",
        "    leg = 'mean: {}'.format(mean)\n",
        "    plt.title(\"Distribution of Errors ({})\".format(leg))\n",
        "    plt.show()\n"
      ],
      "metadata": {
        "id": "RYpx5uryQlmF"
      },
      "execution_count": 47,
      "outputs": []
    },
    {
      "cell_type": "markdown",
      "source": [
        "Now let's look at the results."
      ],
      "metadata": {
        "id": "GoARhV0w66r_"
      }
    },
    {
      "cell_type": "code",
      "source": [
        "\n",
        "plot_learning_results(effect_vals, mask_v1)"
      ],
      "metadata": {
        "colab": {
          "base_uri": "https://localhost:8080/",
          "height": 545
        },
        "id": "VlTmtIL9lHWI",
        "outputId": "03b8fbea-2db3-4c5b-975c-ab3c132ef614"
      },
      "execution_count": 48,
      "outputs": [
        {
          "output_type": "display_data",
          "data": {
            "text/plain": [
              "<Figure size 432x288 with 1 Axes>"
            ],
            "image/png": "[encoded data removed]"
          },
          "metadata": {
            "needs_background": "light"
          }
        },
        {
          "output_type": "display_data",
          "data": {
            "text/plain": [
              "<Figure size 432x288 with 1 Axes>"
            ],
            "image/png": "[encoded data removed]"
          },
          "metadata": {
            "needs_background": "light"
          }
        }
      ]
    },
    {
      "cell_type": "markdown",
      "source": [
        "Our current evaluation strategy is based off of existing data, to minize error from the existing data. Another reasonable strategy is to maximize the total effectiveness. To keep our code simple and generic, we are going to minize the negative value of the total effectiveness. "
      ],
      "metadata": {
        "id": "TicJOgC07Xy9"
      }
    },
    {
      "cell_type": "code",
      "source": [
        "# since learn_k is minizing the error, we simply return the negative value of the sum \n",
        "def eval_v2(target, pred):\n",
        "  return -sum(pred)\n",
        "\n",
        "\n",
        "plot_learning_results(effect_vals, mask_v1, eval_v2, False)"
      ],
      "metadata": {
        "colab": {
          "base_uri": "https://localhost:8080/",
          "height": 281
        },
        "id": "GMJUp20V1qdO",
        "outputId": "baec7bb9-1694-4ddb-ba4b-f3c9398c8444"
      },
      "execution_count": 49,
      "outputs": [
        {
          "output_type": "display_data",
          "data": {
            "text/plain": [
              "<Figure size 432x288 with 1 Axes>"
            ],
            "image/png": "[encoded data removed]"
          },
          "metadata": {
            "needs_background": "light"
          }
        }
      ]
    },
    {
      "cell_type": "markdown",
      "source": [
        "As we can see, without knowing anything about the farmer. Our best `k` is jus the first value in most cases, so increasing number of features does not improve our prediction.\n",
        "\n",
        "Next, we are going to include more information about the farms to see if they help with the prediction. We are only going to mask out the measure effectivenss."
      ],
      "metadata": {
        "id": "GhfjNT8X7-1b"
      }
    },
    {
      "cell_type": "code",
      "source": [
        "all_vals = df[farm_info_cols + crops_info_cols + animal_info_cols + meansures_info_cols + measures_effect_info_cols].fillna(0).values\n",
        "start = len(farm_info_cols + crops_info_cols + animal_info_cols + meansures_info_cols)\n",
        "end = start + len(measures_effect_info_cols)\n",
        "plot_learning_results(all_vals, mask_v1, eval_v1, start, end)"
      ],
      "metadata": {
        "colab": {
          "base_uri": "https://localhost:8080/",
          "height": 558
        },
        "id": "djniYddN19L9",
        "outputId": "2b425d3d-a0f7-4155-fbce-f61621d9a300"
      },
      "execution_count": 51,
      "outputs": [
        {
          "output_type": "display_data",
          "data": {
            "text/plain": [
              "<Figure size 432x288 with 1 Axes>"
            ],
            "image/png": "[encoded data removed]"
          },
          "metadata": {
            "needs_background": "light"
          }
        },
        {
          "output_type": "display_data",
          "data": {
            "text/plain": [
              "<Figure size 432x288 with 1 Axes>"
            ],
            "image/png": "[encoded data removed]"
          },
          "metadata": {
            "needs_background": "light"
          }
        }
      ]
    },
    {
      "cell_type": "markdown",
      "source": [
        "Still the results is not that good. And because the scale is different among the different categories of columns, the error is really high.\n",
        "\n",
        "Next, we are going to try to see what happens if we know some measures the farms have already taken, by randomly masking out some entries."
      ],
      "metadata": {
        "id": "7_nXaMe2-q3H"
      }
    },
    {
      "cell_type": "code",
      "source": [
        "import random\n",
        "\n",
        "def mask_v2(row, start = 0, end = 0):\n",
        "  replace = [True, False]\n",
        "  if end == 0:\n",
        "    end = len(row)\n",
        "  for i in range(start, end):\n",
        "    if random.choice(replace):\n",
        "      row[i] = 0\n",
        "  \n",
        "  return row"
      ],
      "metadata": {
        "id": "iSeQCh7BoGHq"
      },
      "execution_count": 58,
      "outputs": []
    },
    {
      "cell_type": "code",
      "source": [
        "plot_learning_results(effect_vals, mask_v2)"
      ],
      "metadata": {
        "colab": {
          "base_uri": "https://localhost:8080/",
          "height": 545
        },
        "id": "bcBN7V2ysLAO",
        "outputId": "a365ee80-7a5b-49ae-a192-d3ad2aea97d2"
      },
      "execution_count": 59,
      "outputs": [
        {
          "output_type": "display_data",
          "data": {
            "text/plain": [
              "<Figure size 432x288 with 1 Axes>"
            ],
            "image/png": "[encoded data removed]"
          },
          "metadata": {
            "needs_background": "light"
          }
        },
        {
          "output_type": "display_data",
          "data": {
            "text/plain": [
              "<Figure size 432x288 with 1 Axes>"
            ],
            "image/png": "[encoded data removed]"
          },
          "metadata": {
            "needs_background": "light"
          }
        }
      ]
    },
    {
      "cell_type": "markdown",
      "source": [
        "The result is much more meaningful, we do not only see `k` = 2 now, and error is much lower as well.\n",
        "\n",
        "Now, let's try with all the columns again."
      ],
      "metadata": {
        "id": "n3gp0dTY_s0O"
      }
    },
    {
      "cell_type": "code",
      "source": [
        "\n",
        "start = len(farm_info_cols + crops_info_cols + animal_info_cols + meansures_info_cols)\n",
        "end = start + len(measures_effect_info_cols)\n",
        "plot_learning_results(all_vals, mask_v2, eval_v1, start, end)"
      ],
      "metadata": {
        "colab": {
          "base_uri": "https://localhost:8080/",
          "height": 558
        },
        "id": "NlM0SYicojSQ",
        "outputId": "5cb52c88-6458-4987-9c36-94a002190c3b"
      },
      "execution_count": 62,
      "outputs": [
        {
          "output_type": "display_data",
          "data": {
            "text/plain": [
              "<Figure size 432x288 with 1 Axes>"
            ],
            "image/png": "[encoded data removed]"
          },
          "metadata": {
            "needs_background": "light"
          }
        },
        {
          "output_type": "display_data",
          "data": {
            "text/plain": [
              "<Figure size 432x288 with 1 Axes>"
            ],
            "image/png": "[encoded data removed]"
          },
          "metadata": {
            "needs_background": "light"
          }
        }
      ]
    },
    {
      "cell_type": "markdown",
      "source": [
        "As expected, including the additional columns is not that helpful.\n",
        "\n",
        "However, although we should not include these columns in our SVD model, maybe we can improve the result by clustering the farmers and farms first. With this thought, we are going to cluster the farmers, and then only apply the SVD-based prediction using data of farmers within the same cluster."
      ],
      "metadata": {
        "id": "-9bN-85xAIhD"
      }
    },
    {
      "cell_type": "code",
      "source": [
        "from sklearn.cluster import KMeans\n",
        "\n",
        "traits_df = df[farm_info_cols + crops_info_cols + animal_info_cols].fillna(0)\n",
        "\n",
        "scores = []\n",
        "for i in range(2, 20):\n",
        "  score = KMeans(n_clusters=i, random_state=42).fit(traits_df).score(traits_df)\n",
        "  # print(\"cluster: \", i, \" score \", score)\n",
        "  scores.append(score)\n",
        "\n",
        "\n",
        "plt.plot(scores)\n",
        "plt.show()\n"
      ],
      "metadata": {
        "colab": {
          "base_uri": "https://localhost:8080/",
          "height": 276
        },
        "id": "LQYSxIJ0xXjX",
        "outputId": "955c029f-89bb-4781-de4f-cded1c50a5fe"
      },
      "execution_count": 63,
      "outputs": [
        {
          "output_type": "display_data",
          "data": {
            "text/plain": [
              "<Figure size 432x288 with 1 Axes>"
            ],
            "image/png": "[encoded data removed]"
          },
          "metadata": {
            "needs_background": "light"
          }
        }
      ]
    },
    {
      "cell_type": "markdown",
      "source": [
        "As we can see, the score follows a logarithmic curve and the slope is less steep after `k` = 4. We will pick 4 as the number of clsuters. We can add the cluster index back to our dataframe."
      ],
      "metadata": {
        "id": "80uE8_g4As6H"
      }
    },
    {
      "cell_type": "code",
      "source": [
        "n_clusters=4\n",
        "model = KMeans(n_clusters=n_clusters, random_state=42).fit(traits_df)\n",
        "\n",
        "model.labels_\n",
        "\n",
        "trait_col = \"trait_cluster\"\n",
        "\n",
        "df_with_trait = df.fillna(0)\n",
        "df_with_trait.insert(1, trait_col, model.labels_)\n",
        "df_with_trait"
      ],
      "metadata": {
        "colab": {
          "base_uri": "https://localhost:8080/",
          "height": 661
        },
        "id": "L7jYen0f0fm9",
        "outputId": "bb64e9fc-0f37-41bc-b71f-54551b38012c"
      },
      "execution_count": 64,
      "outputs": [
        {
          "output_type": "execute_result",
          "data": {
            "text/plain": [
              "      id  trait_cluster              date  total_agr_land  workforce  trees  \\\n",
              "0      1              2  13.03.2019 10:59          4925.0    1.95406     79   \n",
              "1      2              0  13.03.2019 11:08          2176.0    6.61310     12   \n",
              "2      3              0  13.03.2019 11:37          2251.0    1.39384     31   \n",
              "3      4              0  13.03.2019 13:54          2389.0    1.99523      3   \n",
              "4      5              0  13.03.2019 14:18          3205.0    3.09942     39   \n",
              "..   ...            ...               ...             ...        ...    ...   \n",
              "100  101              0  15.04.2019 21:22          1786.0    0.86598     32   \n",
              "101  102              3  02.05.2019 11:02           876.0    4.29667      0   \n",
              "102  103              0  03.05.2019 19:39          2995.0    2.96772     64   \n",
              "103  104              2  06.05.2019 11:32          6520.0    4.04098      0   \n",
              "104  105              2  10.05.2019 08:36          4894.0    2.70479     30   \n",
              "\n",
              "     arable_land  ley  perm_grass  perm_crops  ...  network  GHG_goal  \\\n",
              "0           3871  107         793         140  ...        2         1   \n",
              "1           1671    0          98         338  ...        1         3   \n",
              "2           1507  279         380          81  ...        3         1   \n",
              "3           1969   71         322           0  ...        1         2   \n",
              "4           1911  675         461         117  ...        3         1   \n",
              "..           ...  ...         ...         ...  ...      ...       ...   \n",
              "100          719  646         167           0  ...        1         3   \n",
              "101            0  227         260         389  ...        3         3   \n",
              "102          879  987        1115           0  ...        3         4   \n",
              "103         4720  374        1385           0  ...        4         3   \n",
              "104         3901  205         565         208  ...       10         2   \n",
              "\n",
              "     env_goal  biodiv_goal  acknow_goal  yield_goal  income_goal  info_gew  \\\n",
              "0           5            6            4           3            2         2   \n",
              "1           4            2            1           6            5         2   \n",
              "2           4            2            3           6            5         1   \n",
              "3           5            4            1           3            6         2   \n",
              "4           6            3            2           5            4         2   \n",
              "..        ...          ...          ...         ...          ...       ...   \n",
              "100         6            5            4           2            1         2   \n",
              "101         5            4            1           2            6         2   \n",
              "102         5            3            1           2            6         1   \n",
              "103         6            4            1           2            5         2   \n",
              "104         6            5            1           4            3         2   \n",
              "\n",
              "     info_resul  interviewtime  \n",
              "0             2         999.53  \n",
              "1             2         901.99  \n",
              "2             1        1832.99  \n",
              "3             1        2001.28  \n",
              "4             2        1809.30  \n",
              "..          ...            ...  \n",
              "100           2        3430.37  \n",
              "101           1        5144.29  \n",
              "102           1        1371.41  \n",
              "103           1        3201.48  \n",
              "104           1         931.95  \n",
              "\n",
              "[105 rows x 228 columns]"
            ],
            "text/html": [
              "\n",
              "  <div id=\"df-f9313468-a292-4537-a5cf-febc7ae660f3\">\n",
              "    <div class=\"colab-df-container\">\n",
              "      <div>\n",
              "<style scoped>\n",
              "    .dataframe tbody tr th:only-of-type {\n",
              "        vertical-align: middle;\n",
              "    }\n",
              "\n",
              "    .dataframe tbody tr th {\n",
              "        vertical-align: top;\n",
              "    }\n",
              "\n",
              "    .dataframe thead th {\n",
              "        text-align: right;\n",
              "    }\n",
              "</style>\n",
              "<table border=\"1\" class=\"dataframe\">\n",
              "  <thead>\n",
              "    <tr style=\"text-align: right;\">\n",
              "      <th></th>\n",
              "      <th>id</th>\n",
              "      <th>trait_cluster</th>\n",
              "      <th>date</th>\n",
              "      <th>total_agr_land</th>\n",
              "      <th>workforce</th>\n",
              "      <th>trees</th>\n",
              "      <th>arable_land</th>\n",
              "      <th>ley</th>\n",
              "      <th>perm_grass</th>\n",
              "      <th>perm_crops</th>\n",
              "      <th>...</th>\n",
              "      <th>network</th>\n",
              "      <th>GHG_goal</th>\n",
              "      <th>env_goal</th>\n",
              "      <th>biodiv_goal</th>\n",
              "      <th>acknow_goal</th>\n",
              "      <th>yield_goal</th>\n",
              "      <th>income_goal</th>\n",
              "      <th>info_gew</th>\n",
              "      <th>info_resul</th>\n",
              "      <th>interviewtime</th>\n",
              "    </tr>\n",
              "  </thead>\n",
              "  <tbody>\n",
              "    <tr>\n",
              "      <th>0</th>\n",
              "      <td>1</td>\n",
              "      <td>2</td>\n",
              "      <td>13.03.2019 10:59</td>\n",
              "      <td>4925.0</td>\n",
              "      <td>1.95406</td>\n",
              "      <td>79</td>\n",
              "      <td>3871</td>\n",
              "      <td>107</td>\n",
              "      <td>793</td>\n",
              "      <td>140</td>\n",
              "      <td>...</td>\n",
              "      <td>2</td>\n",
              "      <td>1</td>\n",
              "      <td>5</td>\n",
              "      <td>6</td>\n",
              "      <td>4</td>\n",
              "      <td>3</td>\n",
              "      <td>2</td>\n",
              "      <td>2</td>\n",
              "      <td>2</td>\n",
              "      <td>999.53</td>\n",
              "    </tr>\n",
              "    <tr>\n",
              "      <th>1</th>\n",
              "      <td>2</td>\n",
              "      <td>0</td>\n",
              "      <td>13.03.2019 11:08</td>\n",
              "      <td>2176.0</td>\n",
              "      <td>6.61310</td>\n",
              "      <td>12</td>\n",
              "      <td>1671</td>\n",
              "      <td>0</td>\n",
              "      <td>98</td>\n",
              "      <td>338</td>\n",
              "      <td>...</td>\n",
              "      <td>1</td>\n",
              "      <td>3</td>\n",
              "      <td>4</td>\n",
              "      <td>2</td>\n",
              "      <td>1</td>\n",
              "      <td>6</td>\n",
              "      <td>5</td>\n",
              "      <td>2</td>\n",
              "      <td>2</td>\n",
              "      <td>901.99</td>\n",
              "    </tr>\n",
              "    <tr>\n",
              "      <th>2</th>\n",
              "      <td>3</td>\n",
              "      <td>0</td>\n",
              "      <td>13.03.2019 11:37</td>\n",
              "      <td>2251.0</td>\n",
              "      <td>1.39384</td>\n",
              "      <td>31</td>\n",
              "      <td>1507</td>\n",
              "      <td>279</td>\n",
              "      <td>380</td>\n",
              "      <td>81</td>\n",
              "      <td>...</td>\n",
              "      <td>3</td>\n",
              "      <td>1</td>\n",
              "      <td>4</td>\n",
              "      <td>2</td>\n",
              "      <td>3</td>\n",
              "      <td>6</td>\n",
              "      <td>5</td>\n",
              "      <td>1</td>\n",
              "      <td>1</td>\n",
              "      <td>1832.99</td>\n",
              "    </tr>\n",
              "    <tr>\n",
              "      <th>3</th>\n",
              "      <td>4</td>\n",
              "      <td>0</td>\n",
              "      <td>13.03.2019 13:54</td>\n",
              "      <td>2389.0</td>\n",
              "      <td>1.99523</td>\n",
              "      <td>3</td>\n",
              "      <td>1969</td>\n",
              "      <td>71</td>\n",
              "      <td>322</td>\n",
              "      <td>0</td>\n",
              "      <td>...</td>\n",
              "      <td>1</td>\n",
              "      <td>2</td>\n",
              "      <td>5</td>\n",
              "      <td>4</td>\n",
              "      <td>1</td>\n",
              "      <td>3</td>\n",
              "      <td>6</td>\n",
              "      <td>2</td>\n",
              "      <td>1</td>\n",
              "      <td>2001.28</td>\n",
              "    </tr>\n",
              "    <tr>\n",
              "      <th>4</th>\n",
              "      <td>5</td>\n",
              "      <td>0</td>\n",
              "      <td>13.03.2019 14:18</td>\n",
              "      <td>3205.0</td>\n",
              "      <td>3.09942</td>\n",
              "      <td>39</td>\n",
              "      <td>1911</td>\n",
              "      <td>675</td>\n",
              "      <td>461</td>\n",
              "      <td>117</td>\n",
              "      <td>...</td>\n",
              "      <td>3</td>\n",
              "      <td>1</td>\n",
              "      <td>6</td>\n",
              "      <td>3</td>\n",
              "      <td>2</td>\n",
              "      <td>5</td>\n",
              "      <td>4</td>\n",
              "      <td>2</td>\n",
              "      <td>2</td>\n",
              "      <td>1809.30</td>\n",
              "    </tr>\n",
              "    <tr>\n",
              "      <th>...</th>\n",
              "      <td>...</td>\n",
              "      <td>...</td>\n",
              "      <td>...</td>\n",
              "      <td>...</td>\n",
              "      <td>...</td>\n",
              "      <td>...</td>\n",
              "      <td>...</td>\n",
              "      <td>...</td>\n",
              "      <td>...</td>\n",
              "      <td>...</td>\n",
              "      <td>...</td>\n",
              "      <td>...</td>\n",
              "      <td>...</td>\n",
              "      <td>...</td>\n",
              "      <td>...</td>\n",
              "      <td>...</td>\n",
              "      <td>...</td>\n",
              "      <td>...</td>\n",
              "      <td>...</td>\n",
              "      <td>...</td>\n",
              "      <td>...</td>\n",
              "    </tr>\n",
              "    <tr>\n",
              "      <th>100</th>\n",
              "      <td>101</td>\n",
              "      <td>0</td>\n",
              "      <td>15.04.2019 21:22</td>\n",
              "      <td>1786.0</td>\n",
              "      <td>0.86598</td>\n",
              "      <td>32</td>\n",
              "      <td>719</td>\n",
              "      <td>646</td>\n",
              "      <td>167</td>\n",
              "      <td>0</td>\n",
              "      <td>...</td>\n",
              "      <td>1</td>\n",
              "      <td>3</td>\n",
              "      <td>6</td>\n",
              "      <td>5</td>\n",
              "      <td>4</td>\n",
              "      <td>2</td>\n",
              "      <td>1</td>\n",
              "      <td>2</td>\n",
              "      <td>2</td>\n",
              "      <td>3430.37</td>\n",
              "    </tr>\n",
              "    <tr>\n",
              "      <th>101</th>\n",
              "      <td>102</td>\n",
              "      <td>3</td>\n",
              "      <td>02.05.2019 11:02</td>\n",
              "      <td>876.0</td>\n",
              "      <td>4.29667</td>\n",
              "      <td>0</td>\n",
              "      <td>0</td>\n",
              "      <td>227</td>\n",
              "      <td>260</td>\n",
              "      <td>389</td>\n",
              "      <td>...</td>\n",
              "      <td>3</td>\n",
              "      <td>3</td>\n",
              "      <td>5</td>\n",
              "      <td>4</td>\n",
              "      <td>1</td>\n",
              "      <td>2</td>\n",
              "      <td>6</td>\n",
              "      <td>2</td>\n",
              "      <td>1</td>\n",
              "      <td>5144.29</td>\n",
              "    </tr>\n",
              "    <tr>\n",
              "      <th>102</th>\n",
              "      <td>103</td>\n",
              "      <td>0</td>\n",
              "      <td>03.05.2019 19:39</td>\n",
              "      <td>2995.0</td>\n",
              "      <td>2.96772</td>\n",
              "      <td>64</td>\n",
              "      <td>879</td>\n",
              "      <td>987</td>\n",
              "      <td>1115</td>\n",
              "      <td>0</td>\n",
              "      <td>...</td>\n",
              "      <td>3</td>\n",
              "      <td>4</td>\n",
              "      <td>5</td>\n",
              "      <td>3</td>\n",
              "      <td>1</td>\n",
              "      <td>2</td>\n",
              "      <td>6</td>\n",
              "      <td>1</td>\n",
              "      <td>1</td>\n",
              "      <td>1371.41</td>\n",
              "    </tr>\n",
              "    <tr>\n",
              "      <th>103</th>\n",
              "      <td>104</td>\n",
              "      <td>2</td>\n",
              "      <td>06.05.2019 11:32</td>\n",
              "      <td>6520.0</td>\n",
              "      <td>4.04098</td>\n",
              "      <td>0</td>\n",
              "      <td>4720</td>\n",
              "      <td>374</td>\n",
              "      <td>1385</td>\n",
              "      <td>0</td>\n",
              "      <td>...</td>\n",
              "      <td>4</td>\n",
              "      <td>3</td>\n",
              "      <td>6</td>\n",
              "      <td>4</td>\n",
              "      <td>1</td>\n",
              "      <td>2</td>\n",
              "      <td>5</td>\n",
              "      <td>2</td>\n",
              "      <td>1</td>\n",
              "      <td>3201.48</td>\n",
              "    </tr>\n",
              "    <tr>\n",
              "      <th>104</th>\n",
              "      <td>105</td>\n",
              "      <td>2</td>\n",
              "      <td>10.05.2019 08:36</td>\n",
              "      <td>4894.0</td>\n",
              "      <td>2.70479</td>\n",
              "      <td>30</td>\n",
              "      <td>3901</td>\n",
              "      <td>205</td>\n",
              "      <td>565</td>\n",
              "      <td>208</td>\n",
              "      <td>...</td>\n",
              "      <td>10</td>\n",
              "      <td>2</td>\n",
              "      <td>6</td>\n",
              "      <td>5</td>\n",
              "      <td>1</td>\n",
              "      <td>4</td>\n",
              "      <td>3</td>\n",
              "      <td>2</td>\n",
              "      <td>1</td>\n",
              "      <td>931.95</td>\n",
              "    </tr>\n",
              "  </tbody>\n",
              "</table>\n",
              "<p>105 rows × 228 columns</p>\n",
              "</div>\n",
              "      <button class=\"colab-df-convert\" onclick=\"convertToInteractive('df-f9313468-a292-4537-a5cf-febc7ae660f3')\"\n",
              "              title=\"Convert this dataframe to an interactive table.\"\n",
              "              style=\"display:none;\">\n",
              "        \n",
              "  <svg xmlns=\"http://www.w3.org/2000/svg\" height=\"24px\"viewBox=\"0 0 24 24\"\n",
              "       width=\"24px\">\n",
              "    <path d=\"M0 0h24v24H0V0z\" fill=\"none\"/>\n",
              "    <path d=\"M18.56 5.44l.94 2.06.94-2.06 2.06-.94-2.06-.94-.94-2.06-.94 2.06-2.06.94zm-11 1L8.5 8.5l.94-2.06 2.06-.94-2.06-.94L8.5 2.5l-.94 2.06-2.06.94zm10 10l.94 2.06.94-2.06 2.06-.94-2.06-.94-.94-2.06-.94 2.06-2.06.94z\"/><path d=\"M17.41 7.96l-1.37-1.37c-.4-.4-.92-.59-1.43-.59-.52 0-1.04.2-1.43.59L10.3 9.45l-7.72 7.72c-.78.78-.78 2.05 0 2.83L4 21.41c.39.39.9.59 1.41.59.51 0 1.02-.2 1.41-.59l7.78-7.78 2.81-2.81c.8-.78.8-2.07 0-2.86zM5.41 20L4 18.59l7.72-7.72 1.47 1.35L5.41 20z\"/>\n",
              "  </svg>\n",
              "      </button>\n",
              "      \n",
              "  <style>\n",
              "    .colab-df-container {\n",
              "      display:flex;\n",
              "      flex-wrap:wrap;\n",
              "      gap: 12px;\n",
              "    }\n",
              "\n",
              "    .colab-df-convert {\n",
              "      background-color: #E8F0FE;\n",
              "      border: none;\n",
              "      border-radius: 50%;\n",
              "      cursor: pointer;\n",
              "      display: none;\n",
              "      fill: #1967D2;\n",
              "      height: 32px;\n",
              "      padding: 0 0 0 0;\n",
              "      width: 32px;\n",
              "    }\n",
              "\n",
              "    .colab-df-convert:hover {\n",
              "      background-color: #E2EBFA;\n",
              "      box-shadow: 0px 1px 2px rgba(60, 64, 67, 0.3), 0px 1px 3px 1px rgba(60, 64, 67, 0.15);\n",
              "      fill: #174EA6;\n",
              "    }\n",
              "\n",
              "    [theme=dark] .colab-df-convert {\n",
              "      background-color: #3B4455;\n",
              "      fill: #D2E3FC;\n",
              "    }\n",
              "\n",
              "    [theme=dark] .colab-df-convert:hover {\n",
              "      background-color: #434B5C;\n",
              "      box-shadow: 0px 1px 3px 1px rgba(0, 0, 0, 0.15);\n",
              "      filter: drop-shadow(0px 1px 2px rgba(0, 0, 0, 0.3));\n",
              "      fill: #FFFFFF;\n",
              "    }\n",
              "  </style>\n",
              "\n",
              "      <script>\n",
              "        const buttonEl =\n",
              "          document.querySelector('#df-f9313468-a292-4537-a5cf-febc7ae660f3 button.colab-df-convert');\n",
              "        buttonEl.style.display =\n",
              "          google.colab.kernel.accessAllowed ? 'block' : 'none';\n",
              "\n",
              "        async function convertToInteractive(key) {\n",
              "          const element = document.querySelector('#df-f9313468-a292-4537-a5cf-febc7ae660f3');\n",
              "          const dataTable =\n",
              "            await google.colab.kernel.invokeFunction('convertToInteractive',\n",
              "                                                     [key], {});\n",
              "          if (!dataTable) return;\n",
              "\n",
              "          const docLinkHtml = 'Like what you see? Visit the ' +\n",
              "            '<a target=\"_blank\" href=https://colab.research.google.com/notebooks/data_table.ipynb>data table notebook</a>'\n",
              "            + ' to learn more about interactive tables.';\n",
              "          element.innerHTML = '';\n",
              "          dataTable['output_type'] = 'display_data';\n",
              "          await google.colab.output.renderOutput(dataTable, element);\n",
              "          const docLink = document.createElement('div');\n",
              "          docLink.innerHTML = docLinkHtml;\n",
              "          element.appendChild(docLink);\n",
              "        }\n",
              "      </script>\n",
              "    </div>\n",
              "  </div>\n",
              "  "
            ]
          },
          "metadata": {},
          "execution_count": 64
        }
      ]
    },
    {
      "cell_type": "markdown",
      "source": [
        "A quick test is to include this cluster index column in our SVD model"
      ],
      "metadata": {
        "id": "mnUaQrLHBZe9"
      }
    },
    {
      "cell_type": "code",
      "source": [
        "trait_measure_vals = df_with_trait[[trait_col] + meansures_info_cols + measures_effect_info_cols].values\n",
        "plot_learning_results(trait_measure_vals, mask_v2)\n"
      ],
      "metadata": {
        "colab": {
          "base_uri": "https://localhost:8080/",
          "height": 545
        },
        "id": "oRatV4kb03hJ",
        "outputId": "f365f43a-3c2f-4f8a-f0f7-757b2d491923"
      },
      "execution_count": 65,
      "outputs": [
        {
          "output_type": "display_data",
          "data": {
            "text/plain": [
              "<Figure size 432x288 with 1 Axes>"
            ],
            "image/png": "[encoded data removed]"
          },
          "metadata": {
            "needs_background": "light"
          }
        },
        {
          "output_type": "display_data",
          "data": {
            "text/plain": [
              "<Figure size 432x288 with 1 Axes>"
            ],
            "image/png": "[encoded data removed]"
          },
          "metadata": {
            "needs_background": "light"
          }
        }
      ]
    },
    {
      "cell_type": "markdown",
      "source": [
        "The result has further improved.\n",
        "\n",
        "Now we are going to re-implement the learning function to only compare against farmers within the cluster."
      ],
      "metadata": {
        "id": "T7JUHMpOBweG"
      }
    },
    {
      "cell_type": "code",
      "source": [
        "def learn_k_clustered(df, mask_fn):\n",
        "  ks = []\n",
        "  errs = []\n",
        "  for n in range(n_clusters):\n",
        "    vals = df[df[trait_col] == n].drop(columns=[trait_col]).values\n",
        "    num_records = len(vals)\n",
        "    for i in range(num_records):\n",
        "      arr = np.copy(vals)\n",
        "      arr[i] = mask_fn(arr[i]) #\n",
        "      best_k = 2\n",
        "      min_err = float('inf')\n",
        "    \n",
        "      for k in range(2, len(arr[0])):\n",
        "        pred = compute_svd(arr, k)\n",
        "        err = mean_squared_error(vals[i], pred[i])\n",
        "        # err = abs(sum(vals[i] - pred[i]))\n",
        "        # print(\"i: \", i, \" - k: \", k, \" - err \", err)\n",
        "        if (err < min_err):\n",
        "          min_err = err\n",
        "          best_k = k\n",
        "    \n",
        "      # print(\"i: \", i, \" - k: \", best_k, \" RMSE: \", err)\n",
        "      ks.append(best_k)\n",
        "      errs.append(min_err)\n",
        "\n",
        "  return ks, errs\n",
        "\n",
        "trait_measure_df = df_with_trait[[trait_col] + meansures_info_cols + measures_effect_info_cols]\n",
        "\n",
        "ks, errs = learn_k_clustered(trait_measure_df, mask_v2)\n",
        "\n",
        "np.histogram(ks)\n",
        "_ = plt.hist(ks, bins='auto')  # arguments are passed to np.histogram\n",
        "mode = max(set(ks), key=ks.count)\n",
        "leg = 'mode: {}'.format(mode)\n",
        "plt.title(\"Distribution of Best Ks ({})\".format(leg))\n",
        "plt.show()\n",
        "\n",
        "\n",
        "np.histogram(errs)\n",
        "_ = plt.hist(errs, bins='auto')  # arguments are passed to np.histogram\n",
        "mean = np.mean(errs)\n",
        "leg = 'mean: {}'.format(mean)\n",
        "plt.title(\"Distribution of Errors ({})\".format(leg))\n",
        "plt.show()"
      ],
      "metadata": {
        "colab": {
          "base_uri": "https://localhost:8080/",
          "height": 545
        },
        "id": "FIxuwrX31F-A",
        "outputId": "7b1d0460-4592-41ef-9ee8-6871eaf21a4b"
      },
      "execution_count": 67,
      "outputs": [
        {
          "output_type": "display_data",
          "data": {
            "text/plain": [
              "<Figure size 432x288 with 1 Axes>"
            ],
            "image/png": "[encoded data removed]"
          },
          "metadata": {
            "needs_background": "light"
          }
        },
        {
          "output_type": "display_data",
          "data": {
            "text/plain": [
              "<Figure size 432x288 with 1 Axes>"
            ],
            "image/png": "[encoded data removed]"
          },
          "metadata": {
            "needs_background": "light"
          }
        }
      ]
    },
    {
      "cell_type": "markdown",
      "source": [
        "We have reached our best result with lowest error!\n",
        "\n",
        "Just to explore, we are going to try with our initial masking method to replace all values with 0"
      ],
      "metadata": {
        "id": "H0QDsAr9CE3l"
      }
    },
    {
      "cell_type": "code",
      "source": [
        "\n",
        "ks, errs = learn_k_clustered(trait_measure_df, mask_v1)\n",
        "\n",
        "np.histogram(ks)\n",
        "_ = plt.hist(ks, bins='auto')  # arguments are passed to np.histogram\n",
        "mode = max(set(ks), key=ks.count)\n",
        "leg = 'mode: {}'.format(mode)\n",
        "plt.title(\"Distribution of Best Ks ({})\".format(leg))\n",
        "plt.show()\n",
        "\n",
        "\n",
        "np.histogram(errs)\n",
        "_ = plt.hist(errs, bins='auto')  # arguments are passed to np.histogram\n",
        "mean = np.mean(errs)\n",
        "leg = 'mean: {}'.format(mean)\n",
        "plt.title(\"Distribution of Errors ({})\".format(leg))\n",
        "plt.show()"
      ],
      "metadata": {
        "colab": {
          "base_uri": "https://localhost:8080/",
          "height": 545
        },
        "id": "g9GOdpnr74Xq",
        "outputId": "bbf1b7cb-d4eb-4abb-d8fa-8663717fb6ab"
      },
      "execution_count": 68,
      "outputs": [
        {
          "output_type": "display_data",
          "data": {
            "text/plain": [
              "<Figure size 432x288 with 1 Axes>"
            ],
            "image/png": "[encoded data removed]"
          },
          "metadata": {
            "needs_background": "light"
          }
        },
        {
          "output_type": "display_data",
          "data": {
            "text/plain": [
              "<Figure size 432x288 with 1 Axes>"
            ],
            "image/png": "[encoded data removed]"
          },
          "metadata": {
            "needs_background": "light"
          }
        }
      ]
    },
    {
      "cell_type": "markdown",
      "source": [
        "That has improved from the initial result too, but still does not work so well"
      ],
      "metadata": {
        "id": "hNMgrrUfFLCL"
      }
    },
    {
      "cell_type": "markdown",
      "source": [
        "In summary, we have a recommender system that works nicely if we know some data about the farmer. The result will be even better if we know traits about the farms.\n",
        "\n",
        "In reality, this means if a farmer provides us the information about their farm, along with the measures they have already implemented, our recommender system can recommend other measure they could take, and predict the effectiveness.\n",
        "\n",
        "In this analysis, we did not incorporate the other data such as attitudes toward the measures. This data could be useful as well since the effectiveness rating is subjective, so we may be able to get more accurate result considering their attitudes too."
      ],
      "metadata": {
        "id": "i12oadazFS1w"
      }
    },
    {
      "cell_type": "code",
      "source": [
        ""
      ],
      "metadata": {
        "id": "DQ7wxe2QHtdO"
      },
      "execution_count": null,
      "outputs": []
    }
  ]
}